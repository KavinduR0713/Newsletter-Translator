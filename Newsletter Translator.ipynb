{
 "cells": [
  {
   "cell_type": "markdown",
   "id": "dc46f389",
   "metadata": {},
   "source": [
    "# Newsletter Translator"
   ]
  },
  {
   "cell_type": "markdown",
   "id": "fcfa24c7",
   "metadata": {},
   "source": [
    "## Input newsletter URL"
   ]
  },
  {
   "cell_type": "code",
   "execution_count": 10,
   "id": "b4e1227f",
   "metadata": {},
   "outputs": [
    {
     "name": "stdout",
     "output_type": "stream",
     "text": [
      "Enter the newsletter URL: https://www.linkedin.com/pulse/power-referral-marketing-real-estate-sashika-dilshan--hj0hc/?trackingId=ZSM8oVXvRPWrP4ybKIRD6g%3D%3D\n"
     ]
    }
   ],
   "source": [
    "url = input(\"Enter the newsletter URL: \")"
   ]
  },
  {
   "cell_type": "markdown",
   "id": "77346bb7",
   "metadata": {},
   "source": [
    "## Input Language"
   ]
  },
  {
   "cell_type": "code",
   "execution_count": 11,
   "id": "c62674cf",
   "metadata": {},
   "outputs": [
    {
     "name": "stdout",
     "output_type": "stream",
     "text": [
      "Enter the target language code (e.g., 'fr' for French): si\n"
     ]
    }
   ],
   "source": [
    "\n",
    "target_language = input(\"Enter the target language code (e.g., 'fr' for French): \")"
   ]
  },
  {
   "cell_type": "code",
   "execution_count": 12,
   "id": "6214bd05",
   "metadata": {},
   "outputs": [
    {
     "name": "stdout",
     "output_type": "stream",
     "text": [
      "Do you want to save the translated newsletter to a document? (Yes/No): Yes\n",
      "Enter the output document file path and name: C:\\Users\\KavinduRathnasiri\\OneDrive - ADA Global\\Desktop\\Translated_Result.doc\n",
      "Translated newsletter saved to: C:\\Users\\KavinduRathnasiri\\OneDrive - ADA Global\\Desktop\\Translated_Result.doc\n",
      "දේපල වෙළඳාම්වල ගතික ලෝකයේ, සාර්ථකත්වය මනිනු ලබන්නේ විකුණන ලද දේපල ගණනෙනි, නමුත් ඔබ ගොඩනඟන සබඳතාවල ශක්තියෙන් ද මනිනු නොලැබේ.දේපල වෙළඳාම්කරුවෙකුගේ අවි ගබඩාවක ඇති වඩාත්ම බලගතු මෙවලමක් යොමු කිරීමකි.එය සංක්ෂිප්තව වසා දැමීම පමණක් නොවේ;එය ඔබේ වෙළඳ නාම උපදේශකයින් බවට පත්වන තෘප්තිමත් සේවාදායකයින්ගේ ජාලයක් නිර්මාණය කිරීමයි.\n",
      "\n",
      "යොමු කිරීමේ වාසිය:\n",
      "\n",
      "යොමු කිරීමේ අලෙවිකරණය සාම්ප්රදායික වෙළඳ දැන්වීම් වලින් ඔබ්බට යයි.නව ව්යාපාර උත්පාදනය කිරීම සඳහා ධනාත්මක අත්දැකීම් උත්තේජනය කිරීමේ කලාවයි.ඔබේ සේවය ගැන සේවාදායකයෙකු සතුටට පත් වූ විට, ඔවුන් ස්වභාවයෙන්ම ඔබේ වෙළඳ නාමය සඳහා තානාපතිවරුන් බවට පත්වීම, ඔවුන්ගේ ජාලයට ඔබව නිර්දේශ කරයි.මුඛන අනුමත කිරීම දේපල වෙළඳාම් කර්මාන්තයේ අතිමහත් බර දරයි.\n",
      "\n",
      "යොමු කිරීම් දිරිගැන්වීම සඳහා උපායමාර්ග:\n",
      "\n",
      "සුවිශේෂී සේවාවක් ලබා දෙන්න: යොමු කිරීමේ අලෙවිකරණයේ පදනම සුවිශේෂී සේවා වේ.ගනුදෙනුකරුවන්ට ඔවුන්ගේ අපේක්ෂාවන්ගෙන් ඔබ්බට වටිනාකමක් ඇති බව ඔබට හැඟෙන විට, ඔවුන්ගේ ධනාත්මක අත්දැකීම් ඔවුන් බෙදා ගැනීමට වැඩි ඉඩක් ඇත.සන්නිවේදනය පවත්වා ගැනීම: ගනුදෙනුවක් අවසන් වීමෙන් පසුව පවා අතීත සේවාදායකයින් සමඟ සම්බන්ධව සිටින්න.නිතිපතා චෙක්-ඉන්ස්, පුවත්පත් හෝ පුද්ගලාරෝපිත පණිවිඩ මගින් දේපල වෙළඳාම් සේවාවන් අවශ්ය කෙනෙකු හමු වූ විට ඔබට සිතේ ඉහළින්ම තබා ගත හැකිය.යොමු කිරීමේ වැඩසටහනක් ක්රියාත්මක කරන්න: මිතුරන් හා පවුලේ අයව හැඳින්වීමට සේවාදායකයින් දිරිමත් කරන ව්යුහාත්මක යොමු කිරීමේ වැඩසටහනක් සාදන්න.ඔවුන්ගේ යොමු කිරීම් සඳහා කෘත itude තාව පළ කරන වට්ටම්, සුවිශේෂී ප්රවේශය හෝ වෙනත් වරප්රසාද මෙයට ඇතුළත් විය හැකිය.අගය පෙන්වන්න: ඔබට ව්යාපාර යොමු කරන සේවාදායකයින් පිළිගෙන අගය කරන්න.සරල ස්තූතියක් ඔබ සටහන් කර, කුඩා තෑග්ගක් හෝ සුවිශේෂී සිදුවීම් ආරාධනයක් මගින් ඔබේ සම්බන්ධතාවය ශක්තිමත් කර අනාගත යොමු කිරීම් දිරිමත් කළ හැකිය.\n",
      "\n",
      "යොමු ජාලයක් ගොඩනැගීම:\n",
      "\n",
      "කර්මාන්ත වෘත්තිකයන් සමඟ ජාලය: උකස් තැරැව්කරුවන්, නිවාස පරීක්ෂකවරුන් සහ කොන්ත්රාත්කරුවන් වැනි අදාළ කර්මාන්තවල වෘත්තිකයන් සමඟ සම්බන්ධ වන්න.විශ්වාසදායක සහකරුවන්ගේ ජාලයක් ස්ථාපිත කිරීම පරස්පර යොමු කිරීම් වලට තුඩු දිය හැකිය.ප්රජා සිදුවීම් සඳහා සහභාගී වන්න: දේශීය සිදුවීම් සඳහා ක්රියාකාරී සහභාගීත්වය සහ ප්රජා ක්රියාකාරකම් ඔබේ දෘශ්යතාව වැඩි දියුණු කිරීම පමණක් නොව, යොමු කිරීමට හේතු විය හැකි කාබනික සංවාද සඳහා ද අවස්ථා නිර්මාණය කරයි.සමාජ මාධ්ය භාවිතා කරන්න: ඔබේ විශේෂ ise තාව ප්රදර්ශනය කිරීමට, සාර්ථක කථා බෙදා ගැනීමට සහ ඔවුන්ගේ අත්දැකීම් බෙදාහදා ගැනීම සඳහා සේවාදායකයින් දිරිමත් කිරීම සේවාදායකයින් දිරිමත් කරන්න.ධනාත්මක මාර්ගගත සමාලෝචන සහ සාක්ෂි ප්රබල යොමු මෙවලම් විය හැකිය.\n",
      "\n",
      "රැළි ආචරණය:\n",
      "\n",
      "යොමු කිරීමේ අලෙවිකරණය ගලක් පොකුණකට දැමීම වැනි ය;රැළි බලපෑමේ ආරම්භක ස්ථානයට වඩා බොහෝ සෙයින් විහිදේ.ඔබේ ජාලය පුළුල් වන විට, ඔබට ළඟා විය හැකි ය.තෘප්තිමත් තෘප්තිමත් සේවාදායකයකු විභව සේවාදායකයින්ගේ සමස්ත ප්රජාවකටම දොරවල් විවෘත කළ හැකි අතර, ස්වයං සදාකාලික වර්ධනයේ චක්රයක් නිර්මාණය කළ හැකිය.\n",
      "\n",
      "අවසන් තීරණයේ දී:\n",
      "\n",
      "දේපල වෙළඳාම්වල තරඟකාරී භූ දර්ශනයේ, යොමු කිරීමේ අලෙවිකරණය කාලානුරූපව හා බලවත් උපාය මාර්ගයක් ලෙස කැපී පෙනේ.සේවාදායක තෘප්තියට ප්රමුඛතාවය දීමෙන්, ශක්තිමත් සබඳතා පවත්වා ගැනීම සහ ඔබේ ජාලය උපායමාර්ගිකව ව්යාප්ත කිරීම, ඔබට යොමු කිරීමේ අලෙවිකරණයේ සම්පූර්ණ හැකියාව අගුළු ඇරීමට ඔබට හැකිය.මතක තබා ගන්න, එය ගනුදෙනු ගැන පමණක් නොවේ;එය ඔබේ විශේෂ ise තාවයන් විශ්වාස කරන ප්රජාවක් පෝෂණය කිරීම හා එය බෙදා ගැනීමට උනන්දුවක් දක්වන ප්රජාවක් පෝෂණය කිරීම ගැන ය.\n",
      "\n",
      "එසේනම්, දේපල වෙළඳාම් වෘත්තිකයන්, යොමු කිරීමේ වාසිය වැලඳ ගැනීම, ඔබේ ජාලය ඔබගේ අඛණ්ඩ සාර්ථකත්වය පිටුපස ගාමක බලවේගය බවට පත්වීම.\n"
     ]
    }
   ],
   "source": [
    "import requests\n",
    "from newspaper import Article\n",
    "from googletrans import Translator\n",
    "from docx import Document\n",
    "import os\n",
    "\n",
    "def translate_newsletter(url, target_language='en'):\n",
    "    # Check if the URL is valid\n",
    "    if not url.startswith('http'):\n",
    "        raise ValueError('Invalid URL')\n",
    "\n",
    "    # Extract text content from the newsletter URL\n",
    "    article = Article(url)\n",
    "    article.download()\n",
    "    article.parse()\n",
    "    original_text = article.text\n",
    "\n",
    "    # Translate the text to the target language\n",
    "    translator = Translator()\n",
    "    translated_text = translator.translate(original_text, dest=target_language).text\n",
    "\n",
    "    return translated_text\n",
    "\n",
    "# Get the current working directory\n",
    "cwd = os.getcwd()\n",
    "\n",
    "\n",
    "\n",
    "# Translate the newsletter\n",
    "translated_newsletter = translate_newsletter(url, target_language)\n",
    "\n",
    "# Ask if the user wants to save the output to a document\n",
    "save_to_doc = input(\"Do you want to save the translated newsletter to a document? (Yes/No): \")\n",
    "\n",
    "if save_to_doc.lower() == 'yes':\n",
    "    # Input output Word document file path\n",
    "    output_docx_path = input(\"Enter the output document file path and name: \")\n",
    "\n",
    "    # Create a new Word document\n",
    "    doc = Document()\n",
    "\n",
    "    # Add translated text to the document\n",
    "    doc.add_paragraph(translated_newsletter)\n",
    "\n",
    "    # Save the Word document\n",
    "    doc.save(output_docx_path)\n",
    "\n",
    "    print(f\"Translated newsletter saved to: {output_docx_path}\")\n",
    "\n",
    "# Print the translated newsletter content\n",
    "print(translated_newsletter)\n"
   ]
  },
  {
   "cell_type": "code",
   "execution_count": null,
   "id": "9f06ad65",
   "metadata": {},
   "outputs": [],
   "source": [
    "from IPython.display import Image\n",
    "image_path = 'C:\\\\Newsletter Translation\\\\image\\\\TY.jpg'\n",
    "Image(filename=image_path, width = 550)"
   ]
  },
  {
   "cell_type": "code",
   "execution_count": null,
   "id": "883457c0",
   "metadata": {},
   "outputs": [],
   "source": []
  }
 ],
 "metadata": {
  "kernelspec": {
   "display_name": "Python 3 (ipykernel)",
   "language": "python",
   "name": "python3"
  },
  "language_info": {
   "codemirror_mode": {
    "name": "ipython",
    "version": 3
   },
   "file_extension": ".py",
   "mimetype": "text/x-python",
   "name": "python",
   "nbconvert_exporter": "python",
   "pygments_lexer": "ipython3",
   "version": "3.11.5"
  }
 },
 "nbformat": 4,
 "nbformat_minor": 5
}
